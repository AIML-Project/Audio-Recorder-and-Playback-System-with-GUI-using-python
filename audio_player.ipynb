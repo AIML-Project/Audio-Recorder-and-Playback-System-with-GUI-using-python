{
 "cells": [
  {
   "cell_type": "code",
   "execution_count": 1,
   "id": "b7ad64b7",
   "metadata": {},
   "outputs": [
    {
     "name": "stdout",
     "output_type": "stream",
     "text": [
      "pygame 2.6.0 (SDL 2.28.4, Python 3.11.5)\n",
      "Hello from the pygame community. https://www.pygame.org/contribute.html\n"
     ]
    }
   ],
   "source": [
    "from tkinter import *\n",
    "import pygame\n",
    "import socket\n",
    "import os\n",
    "import glob\n",
    "\n",
    "root = Tk()\n",
    "root.title(\"Music Player\")\n",
    "root.geometry(\"500x400\")\n",
    "\n",
    "pygame.mixer.init()\n",
    "\n",
    "# Define the directory to search for the latest WAV file\n",
    "audio_directory = r\"C:\\Users\\Rachana Varadaraj\\PycharmProjects\\voiceRecorder1\"  # Replace with the actual directory path\n",
    "\n",
    "def get_latest_file(directory):\n",
    "    # Get a list of all WAV files in the directory\n",
    "    list_of_files = glob.glob(os.path.join(directory, '*.wav'))\n",
    "    if not list_of_files:\n",
    "        return None\n",
    "    # Get the latest file by modification time\n",
    "    latest_file = max(list_of_files, key=os.path.getmtime)\n",
    "    return latest_file\n",
    "\n",
    "def play():\n",
    "    file_path = get_latest_file(audio_directory)\n",
    "    if file_path:\n",
    "        pygame.mixer.music.load(file_path)\n",
    "        pygame.mixer.music.play(loops=0)\n",
    "        send_udp_message('start')\n",
    "        status_label.config(text=f\"Playing: {os.path.basename(file_path)}\")\n",
    "    else:\n",
    "        print(\"No WAV files found in the directory\")\n",
    "        status_label.config(text=\"No WAV files found\")\n",
    "\n",
    "def stop():\n",
    "    pygame.mixer.music.stop()\n",
    "    send_udp_message('stop')\n",
    "    status_label.config(text=\"Stopped\")\n",
    "\n",
    "def send_udp_message(message):\n",
    "    sock = socket.socket(socket.AF_INET, socket.SOCK_DGRAM)\n",
    "    server_address = ('localhost', 12345)\n",
    "    try:\n",
    "        sock.sendto(message.encode(), server_address)\n",
    "    finally:\n",
    "        sock.close()\n",
    "\n",
    "# UI Elements\n",
    "my_button = Button(root, text=\"Play Song\", font=(\"Helvetica\", 32), command=play)\n",
    "my_button.pack(pady=20)\n",
    "\n",
    "stop_button = Button(root, text=\"Stop\", font=(\"Helvetica\", 32), command=stop)\n",
    "stop_button.pack(pady=20)\n",
    "\n",
    "status_label = Label(root, text=\"No song playing\", font=(\"Helvetica\", 16))\n",
    "status_label.pack(pady=20)\n",
    "\n",
    "root.mainloop()\n"
   ]
  },
  {
   "cell_type": "code",
   "execution_count": null,
   "id": "fa854171",
   "metadata": {},
   "outputs": [],
   "source": []
  }
 ],
 "metadata": {
  "kernelspec": {
   "display_name": "Python 3 (ipykernel)",
   "language": "python",
   "name": "python3"
  },
  "language_info": {
   "codemirror_mode": {
    "name": "ipython",
    "version": 3
   },
   "file_extension": ".py",
   "mimetype": "text/x-python",
   "name": "python",
   "nbconvert_exporter": "python",
   "pygments_lexer": "ipython3",
   "version": "3.11.5"
  }
 },
 "nbformat": 4,
 "nbformat_minor": 5
}
